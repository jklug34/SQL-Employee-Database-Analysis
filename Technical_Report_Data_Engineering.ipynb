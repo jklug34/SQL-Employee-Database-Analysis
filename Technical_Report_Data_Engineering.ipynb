{
 "cells": [
  {
   "cell_type": "markdown",
   "metadata": {},
   "source": [
    "# Data Engineering Steps\n",
    "- Inspect the six csv files and determine column headers and data types\n",
    "- Look for columns with the same headers across the csv files\n",
    "- Note that employee number (emp_no) is an integer and observed across 5 of the 6 csv files (employees, titles, salaries, dept_emp, and dept_manager)\n",
    "- Note that department number (dept_no) is a string (VARCHAR) and shared across 3 of the 6 files (departments, dept_emp, and dept_manager)\n",
    "- Set emp_no in the employees csv file as the primary key and reference emp_no in the other csv files as a foriegn key\n",
    "- Set dept_no as a primary key in the departments csv and reference dept_no as a foriegn key in dept_emp and dept_mangager csv files\n",
    "- Other than emp_no and salary which are set to integers all other column headers are set to strings (VARCHAR)\n",
    "- The relationship types used were many to one. An example: an employee can have multiple department managers"
   ]
  }
 ],
 "metadata": {
  "kernelspec": {
   "display_name": "Python [conda env:PythonData] *",
   "language": "python",
   "name": "conda-env-PythonData-py"
  },
  "language_info": {
   "codemirror_mode": {
    "name": "ipython",
    "version": 3
   },
   "file_extension": ".py",
   "mimetype": "text/x-python",
   "name": "python",
   "nbconvert_exporter": "python",
   "pygments_lexer": "ipython3",
   "version": "3.6.8"
  }
 },
 "nbformat": 4,
 "nbformat_minor": 2
}
